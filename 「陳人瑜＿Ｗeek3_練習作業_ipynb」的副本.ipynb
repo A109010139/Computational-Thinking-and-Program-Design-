{
  "nbformat": 4,
  "nbformat_minor": 0,
  "metadata": {
    "colab": {
      "name": "「陳人瑜＿Ｗeek3-練習作業.ipynb」的副本",
      "provenance": [],
      "authorship_tag": "ABX9TyPMKMzSCVIPDX7Mwr+jasQh",
      "include_colab_link": true
    },
    "kernelspec": {
      "name": "python3",
      "display_name": "Python 3"
    }
  },
  "cells": [
    {
      "cell_type": "markdown",
      "metadata": {
        "id": "view-in-github",
        "colab_type": "text"
      },
      "source": [
        "<a href=\"https://colab.research.google.com/github/A109010139/Computational-Thinking-and-Program-Design-/blob/main/%E3%80%8C%E9%99%B3%E4%BA%BA%E7%91%9C%EF%BC%BF%EF%BC%B7eek3_%E7%B7%B4%E7%BF%92%E4%BD%9C%E6%A5%AD_ipynb%E3%80%8D%E7%9A%84%E5%89%AF%E6%9C%AC.ipynb\" target=\"_parent\"><img src=\"https://colab.research.google.com/assets/colab-badge.svg\" alt=\"Open In Colab\"/></a>"
      ]
    },
    {
      "cell_type": "code",
      "metadata": {
        "colab": {
          "base_uri": "https://localhost:8080/"
        },
        "id": "MUnG2vG2fRcb",
        "outputId": "400ba13f-8051-426a-fb60-89ed7dc916a8"
      },
      "source": [
        "print(\"Hello World\")"
      ],
      "execution_count": null,
      "outputs": [
        {
          "output_type": "stream",
          "text": [
            "Hello World\n"
          ],
          "name": "stdout"
        }
      ]
    },
    {
      "cell_type": "markdown",
      "metadata": {
        "id": "vDHYVeyViIL4"
      },
      "source": [
        "第一次作業"
      ]
    },
    {
      "cell_type": "code",
      "metadata": {
        "colab": {
          "base_uri": "https://localhost:8080/"
        },
        "id": "RuLQX_9GiVhz",
        "outputId": "f449b160-bdf8-42d9-b9cf-0f18035b3797"
      },
      "source": [
        "print(1+1)"
      ],
      "execution_count": null,
      "outputs": [
        {
          "output_type": "stream",
          "text": [
            "2\n"
          ],
          "name": "stdout"
        }
      ]
    }
  ]
}