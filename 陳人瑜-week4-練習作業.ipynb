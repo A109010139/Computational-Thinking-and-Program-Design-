{
  "nbformat": 4,
  "nbformat_minor": 0,
  "metadata": {
    "colab": {
      "name": "陳人瑜week4-練習作業.ipynb",
      "provenance": [],
      "authorship_tag": "ABX9TyPGW+aySFSSMJHHjMfnWR5A",
      "include_colab_link": true
    },
    "kernelspec": {
      "name": "python3",
      "display_name": "Python 3"
    }
  },
  "cells": [
    {
      "cell_type": "markdown",
      "metadata": {
        "id": "view-in-github",
        "colab_type": "text"
      },
      "source": [
        "<a href=\"https://colab.research.google.com/github/A109010139/Computational-Thinking-and-Program-Design-/blob/main/%E9%99%B3%E4%BA%BA%E7%91%9C-week4-%E7%B7%B4%E7%BF%92%E4%BD%9C%E6%A5%AD.ipynb\" target=\"_parent\"><img src=\"https://colab.research.google.com/assets/colab-badge.svg\" alt=\"Open In Colab\"/></a>"
      ]
    },
    {
      "cell_type": "code",
      "metadata": {
        "id": "dtZPXn82X4ln"
      },
      "source": [
        ""
      ],
      "execution_count": null,
      "outputs": []
    },
    {
      "cell_type": "markdown",
      "metadata": {
        "id": "YU4VVGo3YKBD"
      },
      "source": [
        "#隨堂練習"
      ]
    },
    {
      "cell_type": "code",
      "metadata": {
        "id": "bGGRhJh6YONt"
      },
      "source": [
        ""
      ],
      "execution_count": null,
      "outputs": []
    },
    {
      "cell_type": "markdown",
      "metadata": {
        "id": "JjdHnMekYPF4"
      },
      "source": [
        "#課後練習"
      ]
    },
    {
      "cell_type": "markdown",
      "metadata": {
        "id": "4WIe1LrTYk1U"
      },
      "source": [
        "從一則新聞報導，提出你對新聞系（OO系）學生為什麼要學「運算思維與程式設計」的見解。（告訴我新聞連結，以及你的觀點即可。）"
      ]
    },
    {
      "cell_type": "markdown",
      "metadata": {
        "id": "Z4EeeF7oYSex"
      },
      "source": [
        "[連結文字]https://www.cw.com.tw/article/5080736\r\n",
        "\r\n",
        "數位時代，科技應用於生活中，而如何使生活更便利性，為運算思維與程式設計存在之目的，加上程式設計為現今趨勢。所以學生有學習運算思維與程式設計之必要。加上學生可以透過運算思維學習如何思考，及尋求解決問題的方案。"
      ]
    },
    {
      "cell_type": "code",
      "metadata": {
        "id": "6VY4gd84n0rf"
      },
      "source": [
        ""
      ],
      "execution_count": null,
      "outputs": []
    }
  ]
}